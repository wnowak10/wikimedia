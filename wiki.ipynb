{
 "cells": [
  {
   "cell_type": "markdown",
   "metadata": {},
   "source": [
    "# Wikimedia Discovery - Clickthrough and search analysis"
   ]
  },
  {
   "cell_type": "markdown",
   "metadata": {},
   "source": [
    "*To run plotly visualizations locally, you must:*\n",
    "    \n",
    "*1. Create a [plotly](http://help.plot.ly/how-to-sign-up-to-plotly/) account.*\n",
    "\n",
    "*2. Generate an API key.*\n",
    "\n",
    "*3. Save this key to a string titled 'key' in a file titled 'contents.py' in the directory*"
   ]
  },
  {
   "cell_type": "markdown",
   "metadata": {},
   "source": [
    "The following analysis is a report for the [Wikimedia Discovery department](https://www.mediawiki.org/wiki/Wikimedia_Discovery). The goals of the project are:\n",
    "\n",
    "1. \"What is our daily overall clickthrough rate? How does it vary between the groups?\n",
    "2. Which results do people tend to try first? How does it change day-to-day?\n",
    "3. What is our daily overall zero results rate? How does it vary between the groups?\n",
    "4. Let session length be approximately the time between the first event and the last event in a session. Choose a variable from the dataset and describe its relationship to session length. Visualize the relationship.\n",
    "5. Summarize your findings in an executive summary.\"\n",
    "\n",
    "**This is a demo project intended for the Wikimedia data scientist job application. I am not actually applying for this job, but just running through the interview to build/demo skills. See [link](https://github.com/wikimedia-research/Discovery-Hiring-Analyst-2016) for more details.**"
   ]
  },
  {
   "cell_type": "code",
   "execution_count": 38,
   "metadata": {
    "collapsed": false
   },
   "outputs": [],
   "source": [
    "# imports\n",
    "import pandas as pd\n",
    "import numpy as np\n",
    "import matplotlib\n",
    "import matplotlib.pyplot as plt\n",
    "matplotlib.style.use('ggplot')"
   ]
  },
  {
   "cell_type": "code",
   "execution_count": 39,
   "metadata": {
    "collapsed": true
   },
   "outputs": [],
   "source": [
    "# set seed\n",
    "np.random.seed(12345678)"
   ]
  },
  {
   "cell_type": "code",
   "execution_count": 40,
   "metadata": {
    "collapsed": false
   },
   "outputs": [],
   "source": [
    "# read data as gzip file\n",
    "df = pd.read_csv('events_log.csv.gz', compression='gzip', header=0, sep=',', quotechar='\"')"
   ]
  },
  {
   "cell_type": "code",
   "execution_count": 41,
   "metadata": {
    "collapsed": false
   },
   "outputs": [],
   "source": [
    "df['timestamp']=df['timestamp'].astype(int) #convert timestamp to int to slice\n",
    "df['timestamp']=pd.to_datetime(df['timestamp'],format='%Y%m%d%H%M%S', errors='ignore') #convert to pandas datetime\n",
    "df['day']=df['timestamp'].dt.day # add 'day' variable using handy .dt \n",
    "df['weekday']=df['timestamp'].dt.dayofweek # add 'dayofweek' variable using handy .dt "
   ]
  },
  {
   "cell_type": "markdown",
   "metadata": {},
   "source": [
    "From the original documentation:\n",
    "\n",
    "| Column          | Value   | Description                                                                       |\n",
    "|:----------------|:--------|:----------------------------------------------------------------------------------|\n",
    "| uuid            | string  | Universally unique identifier (UUID) for backend event handling.                  |\n",
    "| timestamp       | integer | The date and time (UTC) of the event, formatted as YYYYMMDDhhmmss.                |\n",
    "| session_id      | string  | A unique ID identifying individual sessions.                                      |\n",
    "| group           | string  | A label (\"a\" or \"b\").                                     |\n",
    "| action          | string  | Identifies in which the event was created. See below.                             |\n",
    "| checkin         | integer | How many seconds the page has been open for.                                      |\n",
    "| page_id         | string  | A unique identifier for correlating page visits and check-ins.                    |\n",
    "| n_results       | integer | Number of hits returned to the user. Only shown for searchResultPage events.      |\n",
    "| result_position | integer | The position of the visited page's link on the search engine results page (SERP). |"
   ]
  },
  {
   "cell_type": "code",
   "execution_count": 42,
   "metadata": {
    "collapsed": false
   },
   "outputs": [],
   "source": [
    "df=df.sort_values(by=['session_id','timestamp'])"
   ]
  },
  {
   "cell_type": "code",
   "execution_count": 43,
   "metadata": {
    "collapsed": false
   },
   "outputs": [
    {
     "data": {
      "text/html": [
       "<div>\n",
       "<table border=\"1\" class=\"dataframe\">\n",
       "  <thead>\n",
       "    <tr style=\"text-align: right;\">\n",
       "      <th></th>\n",
       "      <th>uuid</th>\n",
       "      <th>timestamp</th>\n",
       "      <th>session_id</th>\n",
       "      <th>group</th>\n",
       "      <th>action</th>\n",
       "      <th>checkin</th>\n",
       "      <th>page_id</th>\n",
       "      <th>n_results</th>\n",
       "      <th>result_position</th>\n",
       "      <th>day</th>\n",
       "      <th>weekday</th>\n",
       "    </tr>\n",
       "  </thead>\n",
       "  <tbody>\n",
       "    <tr>\n",
       "      <th>361077</th>\n",
       "      <td>e6f9280c8df5536490eb925a91979a3b</td>\n",
       "      <td>2016-03-03 15:20:45</td>\n",
       "      <td>0000cbcb67c19c45</td>\n",
       "      <td>b</td>\n",
       "      <td>searchResultPage</td>\n",
       "      <td>NaN</td>\n",
       "      <td>fdeeb9aaf0130d41</td>\n",
       "      <td>20.0</td>\n",
       "      <td>NaN</td>\n",
       "      <td>3</td>\n",
       "      <td>3</td>\n",
       "    </tr>\n",
       "    <tr>\n",
       "      <th>142278</th>\n",
       "      <td>5b394c862bf657d98bcd25589a5247ac</td>\n",
       "      <td>2016-03-07 08:49:55</td>\n",
       "      <td>0001382e027b2ea4</td>\n",
       "      <td>b</td>\n",
       "      <td>searchResultPage</td>\n",
       "      <td>NaN</td>\n",
       "      <td>7aa28c36c03380a0</td>\n",
       "      <td>18.0</td>\n",
       "      <td>NaN</td>\n",
       "      <td>7</td>\n",
       "      <td>0</td>\n",
       "    </tr>\n",
       "    <tr>\n",
       "      <th>317464</th>\n",
       "      <td>cae3f7c7ce5d5d28b4bd6d318d962b1b</td>\n",
       "      <td>2016-03-07 08:49:58</td>\n",
       "      <td>0001382e027b2ea4</td>\n",
       "      <td>b</td>\n",
       "      <td>visitPage</td>\n",
       "      <td>NaN</td>\n",
       "      <td>f88793c95e778898</td>\n",
       "      <td>NaN</td>\n",
       "      <td>1.0</td>\n",
       "      <td>7</td>\n",
       "      <td>0</td>\n",
       "    </tr>\n",
       "    <tr>\n",
       "      <th>381398</th>\n",
       "      <td>f3e75c59c52251bb9b6585bb04284ee3</td>\n",
       "      <td>2016-03-07 08:50:08</td>\n",
       "      <td>0001382e027b2ea4</td>\n",
       "      <td>b</td>\n",
       "      <td>checkin</td>\n",
       "      <td>10.0</td>\n",
       "      <td>f88793c95e778898</td>\n",
       "      <td>NaN</td>\n",
       "      <td>1.0</td>\n",
       "      <td>7</td>\n",
       "      <td>0</td>\n",
       "    </tr>\n",
       "    <tr>\n",
       "      <th>375381</th>\n",
       "      <td>f01620582b615c03812cb1af2e804102</td>\n",
       "      <td>2016-03-07 08:50:18</td>\n",
       "      <td>0001382e027b2ea4</td>\n",
       "      <td>b</td>\n",
       "      <td>checkin</td>\n",
       "      <td>20.0</td>\n",
       "      <td>f88793c95e778898</td>\n",
       "      <td>NaN</td>\n",
       "      <td>1.0</td>\n",
       "      <td>7</td>\n",
       "      <td>0</td>\n",
       "    </tr>\n",
       "    <tr>\n",
       "      <th>311225</th>\n",
       "      <td>c6de195749b356d8ae2a03f06878fec1</td>\n",
       "      <td>2016-03-07 08:50:28</td>\n",
       "      <td>0001382e027b2ea4</td>\n",
       "      <td>b</td>\n",
       "      <td>checkin</td>\n",
       "      <td>30.0</td>\n",
       "      <td>f88793c95e778898</td>\n",
       "      <td>NaN</td>\n",
       "      <td>1.0</td>\n",
       "      <td>7</td>\n",
       "      <td>0</td>\n",
       "    </tr>\n",
       "    <tr>\n",
       "      <th>345596</th>\n",
       "      <td>dce8005fec955a1a9f3b2571d5f9866e</td>\n",
       "      <td>2016-03-07 08:50:38</td>\n",
       "      <td>0001382e027b2ea4</td>\n",
       "      <td>b</td>\n",
       "      <td>checkin</td>\n",
       "      <td>40.0</td>\n",
       "      <td>f88793c95e778898</td>\n",
       "      <td>NaN</td>\n",
       "      <td>1.0</td>\n",
       "      <td>7</td>\n",
       "      <td>0</td>\n",
       "    </tr>\n",
       "    <tr>\n",
       "      <th>55040</th>\n",
       "      <td>235b45f31d7e5afab38f4807b09a2880</td>\n",
       "      <td>2016-03-07 08:50:48</td>\n",
       "      <td>0001382e027b2ea4</td>\n",
       "      <td>b</td>\n",
       "      <td>checkin</td>\n",
       "      <td>50.0</td>\n",
       "      <td>f88793c95e778898</td>\n",
       "      <td>NaN</td>\n",
       "      <td>1.0</td>\n",
       "      <td>7</td>\n",
       "      <td>0</td>\n",
       "    </tr>\n",
       "    <tr>\n",
       "      <th>392547</th>\n",
       "      <td>fb0ae5ac2e505df28984feb1f6774172</td>\n",
       "      <td>2016-03-07 08:50:58</td>\n",
       "      <td>0001382e027b2ea4</td>\n",
       "      <td>b</td>\n",
       "      <td>checkin</td>\n",
       "      <td>60.0</td>\n",
       "      <td>f88793c95e778898</td>\n",
       "      <td>NaN</td>\n",
       "      <td>1.0</td>\n",
       "      <td>7</td>\n",
       "      <td>0</td>\n",
       "    </tr>\n",
       "    <tr>\n",
       "      <th>391539</th>\n",
       "      <td>fa6a1974487154aa95ddb93d8d5d3734</td>\n",
       "      <td>2016-03-07 08:51:28</td>\n",
       "      <td>0001382e027b2ea4</td>\n",
       "      <td>b</td>\n",
       "      <td>checkin</td>\n",
       "      <td>90.0</td>\n",
       "      <td>f88793c95e778898</td>\n",
       "      <td>NaN</td>\n",
       "      <td>1.0</td>\n",
       "      <td>7</td>\n",
       "      <td>0</td>\n",
       "    </tr>\n",
       "  </tbody>\n",
       "</table>\n",
       "</div>"
      ],
      "text/plain": [
       "                                    uuid           timestamp  \\\n",
       "361077  e6f9280c8df5536490eb925a91979a3b 2016-03-03 15:20:45   \n",
       "142278  5b394c862bf657d98bcd25589a5247ac 2016-03-07 08:49:55   \n",
       "317464  cae3f7c7ce5d5d28b4bd6d318d962b1b 2016-03-07 08:49:58   \n",
       "381398  f3e75c59c52251bb9b6585bb04284ee3 2016-03-07 08:50:08   \n",
       "375381  f01620582b615c03812cb1af2e804102 2016-03-07 08:50:18   \n",
       "311225  c6de195749b356d8ae2a03f06878fec1 2016-03-07 08:50:28   \n",
       "345596  dce8005fec955a1a9f3b2571d5f9866e 2016-03-07 08:50:38   \n",
       "55040   235b45f31d7e5afab38f4807b09a2880 2016-03-07 08:50:48   \n",
       "392547  fb0ae5ac2e505df28984feb1f6774172 2016-03-07 08:50:58   \n",
       "391539  fa6a1974487154aa95ddb93d8d5d3734 2016-03-07 08:51:28   \n",
       "\n",
       "              session_id group            action  checkin           page_id  \\\n",
       "361077  0000cbcb67c19c45     b  searchResultPage      NaN  fdeeb9aaf0130d41   \n",
       "142278  0001382e027b2ea4     b  searchResultPage      NaN  7aa28c36c03380a0   \n",
       "317464  0001382e027b2ea4     b         visitPage      NaN  f88793c95e778898   \n",
       "381398  0001382e027b2ea4     b           checkin     10.0  f88793c95e778898   \n",
       "375381  0001382e027b2ea4     b           checkin     20.0  f88793c95e778898   \n",
       "311225  0001382e027b2ea4     b           checkin     30.0  f88793c95e778898   \n",
       "345596  0001382e027b2ea4     b           checkin     40.0  f88793c95e778898   \n",
       "55040   0001382e027b2ea4     b           checkin     50.0  f88793c95e778898   \n",
       "392547  0001382e027b2ea4     b           checkin     60.0  f88793c95e778898   \n",
       "391539  0001382e027b2ea4     b           checkin     90.0  f88793c95e778898   \n",
       "\n",
       "        n_results  result_position  day  weekday  \n",
       "361077       20.0              NaN    3        3  \n",
       "142278       18.0              NaN    7        0  \n",
       "317464        NaN              1.0    7        0  \n",
       "381398        NaN              1.0    7        0  \n",
       "375381        NaN              1.0    7        0  \n",
       "311225        NaN              1.0    7        0  \n",
       "345596        NaN              1.0    7        0  \n",
       "55040         NaN              1.0    7        0  \n",
       "392547        NaN              1.0    7        0  \n",
       "391539        NaN              1.0    7        0  "
      ]
     },
     "execution_count": 43,
     "metadata": {},
     "output_type": "execute_result"
    }
   ],
   "source": [
    "# get acclimated...\n",
    "df.head(10)\n",
    "# df.info()\n",
    "# len(df)"
   ]
  },
  {
   "cell_type": "markdown",
   "metadata": {
    "variables": {
     "len(df)": "400165"
    }
   },
   "source": [
    "We have {{len(df)}} total UUIDs."
   ]
  },
  {
   "cell_type": "code",
   "execution_count": 44,
   "metadata": {
    "collapsed": true
   },
   "outputs": [],
   "source": [
    "number_sessions_total=len(df.groupby('session_id')) # how many sessions (this pandas groupby code is super sweet)"
   ]
  },
  {
   "cell_type": "markdown",
   "metadata": {
    "variables": {
     "number_sessions_total": "68028",
     "sum(df.groupby('session_id').head(1)['action']!='searchResultPage')": "98"
    }
   },
   "source": [
    "Every one of the {{number_sessions_total}} sessions (except for {{sum(df.groupby('session_id').head(1)['action']!='searchResultPage')}} exceptions) in this dataset begins with a searchResultPage, and then the session continues (presumably) until they log out. In that time, they either click on links (visitPage) or stay on the same page (checkin)."
   ]
  },
  {
   "cell_type": "code",
   "execution_count": 45,
   "metadata": {
    "collapsed": false
   },
   "outputs": [],
   "source": [
    "### only keep sessions that start with search ###\n",
    "\n",
    "# group by session_id, and then keep first action. if it is srp, return true. if not return false\n",
    "start_with_search=df.groupby('session_id').head(1)['action']=='searchResultPage' \n",
    "start_with_search=start_with_search[start_with_search==True] # keep index for first page search\n",
    "# what are session ids for the the sessions where first page is search?\n",
    "s_ids=df[df.index.isin(start_with_search.index)]['session_id']\n",
    "\n",
    "# make new df that only has these sessions called df2\n",
    "df2=df[df.session_id.isin(s_ids)]"
   ]
  },
  {
   "cell_type": "markdown",
   "metadata": {
    "collapsed": true
   },
   "source": [
    "## \"1. What is our daily overall clickthrough rate? How does it vary between the groups?\""
   ]
  },
  {
   "cell_type": "markdown",
   "metadata": {},
   "source": [
    "From wikipedia, \"Click-through rate (CTR) is the ratio of users who click on a specific link to the number of total users who view a page, email, or advertisement.\" More specifically, the assignment defines this as \"the proportion of search sessions where the user clicked on one of the results displayed.\"\n",
    "\n",
    "$CTR = \\frac{sessionswithclick}{total sessions}$\n",
    "\n",
    "We also want to do this for groups 'a' and 'b'...so let's subset the original dataframe."
   ]
  },
  {
   "cell_type": "markdown",
   "metadata": {},
   "source": [
    "### Group A/B exploratory analysis."
   ]
  },
  {
   "cell_type": "code",
   "execution_count": 46,
   "metadata": {
    "collapsed": false
   },
   "outputs": [],
   "source": [
    "group_a=df.loc[df['group'] == 'a'] # create dataframe for just group A\n",
    "group_b=df.loc[df['group'] == 'b'] # create dataframe for just group B\n",
    "\n",
    "len_grp_a=len(group_a)\n",
    "len_grp_b=len(group_b)"
   ]
  },
  {
   "cell_type": "markdown",
   "metadata": {
    "variables": {
     "len_grp_a": "299019",
     "len_grp_b": "101146"
    }
   },
   "source": [
    "We have {{len_grp_a}} UUIDs in group A, and {{len_grp_b}} in group B."
   ]
  },
  {
   "cell_type": "code",
   "execution_count": 47,
   "metadata": {
    "collapsed": false
   },
   "outputs": [
    {
     "data": {
      "text/html": [
       "<iframe id=\"igraph\" scrolling=\"no\" style=\"border:none;\" seamless=\"seamless\" src=\"https://plot.ly/~wnowak10/12.embed\" height=\"525px\" width=\"100%\"></iframe>"
      ],
      "text/plain": [
       "<plotly.tools.PlotlyDisplay object>"
      ]
     },
     "execution_count": 47,
     "metadata": {},
     "output_type": "execute_result"
    }
   ],
   "source": [
    "# make a bar chart to show the A/B distribution\n",
    "import plotly.plotly as py\n",
    "import plotly.graph_objs as go\n",
    "import plotly\n",
    "from contents import key\n",
    "plotly.tools.set_credentials_file(username='wnowak10', api_key=key)\n",
    "\n",
    "x = ['a','b']\n",
    "y = [len_grp_a, len_grp_b]\n",
    "chart_df = pd.DataFrame({'x': x, 'y': y})\n",
    "# chart_df.head()\n",
    "\n",
    "data = [\n",
    "    go.Bar(\n",
    "        x=chart_df['x'], # assign x as the dataframe column 'x'\n",
    "        y=chart_df['y']\n",
    "    )\n",
    "]\n",
    "#py.iplot(data)\n",
    "\n",
    "layout=go.Layout(title=\"Size of user groups (a and b)\", xaxis={'title':'Group'}, yaxis={'title':'# UUIDs'})\n",
    "figure=go.Figure(data=data,layout=layout)\n",
    "py.iplot(figure, filename='pyguide_1')"
   ]
  },
  {
   "cell_type": "markdown",
   "metadata": {},
   "source": [
    "### User behavior analysis"
   ]
  },
  {
   "cell_type": "markdown",
   "metadata": {
    "variables": {
     "len(df)": "400165"
    }
   },
   "source": [
    "Of the {{len(df)}} events in this dataset, what is distribution of actions?"
   ]
  },
  {
   "cell_type": "code",
   "execution_count": 48,
   "metadata": {
    "collapsed": false
   },
   "outputs": [
    {
     "data": {
      "text/html": [
       "<div>\n",
       "<table border=\"1\" class=\"dataframe\">\n",
       "  <thead>\n",
       "    <tr style=\"text-align: right;\">\n",
       "      <th></th>\n",
       "      <th>action</th>\n",
       "    </tr>\n",
       "  </thead>\n",
       "  <tbody>\n",
       "    <tr>\n",
       "      <th>checkin</th>\n",
       "      <td>223824</td>\n",
       "    </tr>\n",
       "    <tr>\n",
       "      <th>searchResultPage</th>\n",
       "      <td>136234</td>\n",
       "    </tr>\n",
       "    <tr>\n",
       "      <th>visitPage</th>\n",
       "      <td>40107</td>\n",
       "    </tr>\n",
       "  </tbody>\n",
       "</table>\n",
       "</div>"
      ],
      "text/plain": [
       "                  action\n",
       "checkin           223824\n",
       "searchResultPage  136234\n",
       "visitPage          40107"
      ]
     },
     "execution_count": 48,
     "metadata": {},
     "output_type": "execute_result"
    }
   ],
   "source": [
    "# find distribution using pandas value_counts\n",
    "action_vcs=df['action'].value_counts()\n",
    "# convert to df\n",
    "action_vcs=pd.DataFrame(action_vcs)\n",
    "action_vcs.head()"
   ]
  },
  {
   "cell_type": "code",
   "execution_count": 49,
   "metadata": {
    "collapsed": false
   },
   "outputs": [
    {
     "data": {
      "text/html": [
       "<iframe id=\"igraph\" scrolling=\"no\" style=\"border:none;\" seamless=\"seamless\" src=\"https://plot.ly/~wnowak10/28.embed\" height=\"525px\" width=\"100%\"></iframe>"
      ],
      "text/plain": [
       "<plotly.tools.PlotlyDisplay object>"
      ]
     },
     "execution_count": 49,
     "metadata": {},
     "output_type": "execute_result"
    }
   ],
   "source": [
    "action_data = [\n",
    "    go.Bar(\n",
    "        x=action_vcs.index, # x axis labels -- the index of action_vcs df\n",
    "        y=action_vcs['action']\n",
    "    )\n",
    "]\n",
    "\n",
    "layout=go.Layout(title=\"Distribution of actions\", xaxis={'title':'Action'}, yaxis={'title':'# UUIDs'})\n",
    "figure=go.Figure(data=action_data,layout=layout)\n",
    "py.iplot(figure)"
   ]
  },
  {
   "cell_type": "markdown",
   "metadata": {},
   "source": [
    "Most of the UUIDs are checkins (user simply remaining on the same page)."
   ]
  },
  {
   "cell_type": "markdown",
   "metadata": {},
   "source": [
    "Let's now group by individual user sessions and explore data in this way. "
   ]
  },
  {
   "cell_type": "code",
   "execution_count": 50,
   "metadata": {
    "collapsed": false
   },
   "outputs": [
    {
     "data": {
      "text/html": [
       "<div>\n",
       "<table border=\"1\" class=\"dataframe\">\n",
       "  <thead>\n",
       "    <tr style=\"text-align: right;\">\n",
       "      <th></th>\n",
       "      <th>session_id</th>\n",
       "      <th>timestamp</th>\n",
       "      <th>action</th>\n",
       "      <th>count</th>\n",
       "    </tr>\n",
       "  </thead>\n",
       "  <tbody>\n",
       "    <tr>\n",
       "      <th>1</th>\n",
       "      <td>0001382e027b2ea4</td>\n",
       "      <td>2016-03-07 08:49:55</td>\n",
       "      <td>searchResultPage</td>\n",
       "      <td>1</td>\n",
       "    </tr>\n",
       "    <tr>\n",
       "      <th>2</th>\n",
       "      <td>0001382e027b2ea4</td>\n",
       "      <td>2016-03-07 08:49:58</td>\n",
       "      <td>visitPage</td>\n",
       "      <td>1</td>\n",
       "    </tr>\n",
       "    <tr>\n",
       "      <th>3</th>\n",
       "      <td>0001382e027b2ea4</td>\n",
       "      <td>2016-03-07 08:50:08</td>\n",
       "      <td>checkin</td>\n",
       "      <td>1</td>\n",
       "    </tr>\n",
       "    <tr>\n",
       "      <th>4</th>\n",
       "      <td>0001382e027b2ea4</td>\n",
       "      <td>2016-03-07 08:50:18</td>\n",
       "      <td>checkin</td>\n",
       "      <td>1</td>\n",
       "    </tr>\n",
       "    <tr>\n",
       "      <th>5</th>\n",
       "      <td>0001382e027b2ea4</td>\n",
       "      <td>2016-03-07 08:50:28</td>\n",
       "      <td>checkin</td>\n",
       "      <td>1</td>\n",
       "    </tr>\n",
       "    <tr>\n",
       "      <th>6</th>\n",
       "      <td>0001382e027b2ea4</td>\n",
       "      <td>2016-03-07 08:50:38</td>\n",
       "      <td>checkin</td>\n",
       "      <td>1</td>\n",
       "    </tr>\n",
       "    <tr>\n",
       "      <th>7</th>\n",
       "      <td>0001382e027b2ea4</td>\n",
       "      <td>2016-03-07 08:50:48</td>\n",
       "      <td>checkin</td>\n",
       "      <td>1</td>\n",
       "    </tr>\n",
       "    <tr>\n",
       "      <th>8</th>\n",
       "      <td>0001382e027b2ea4</td>\n",
       "      <td>2016-03-07 08:50:58</td>\n",
       "      <td>checkin</td>\n",
       "      <td>1</td>\n",
       "    </tr>\n",
       "    <tr>\n",
       "      <th>9</th>\n",
       "      <td>0001382e027b2ea4</td>\n",
       "      <td>2016-03-07 08:51:28</td>\n",
       "      <td>checkin</td>\n",
       "      <td>1</td>\n",
       "    </tr>\n",
       "  </tbody>\n",
       "</table>\n",
       "</div>"
      ],
      "text/plain": [
       "         session_id           timestamp            action  count\n",
       "1  0001382e027b2ea4 2016-03-07 08:49:55  searchResultPage      1\n",
       "2  0001382e027b2ea4 2016-03-07 08:49:58         visitPage      1\n",
       "3  0001382e027b2ea4 2016-03-07 08:50:08           checkin      1\n",
       "4  0001382e027b2ea4 2016-03-07 08:50:18           checkin      1\n",
       "5  0001382e027b2ea4 2016-03-07 08:50:28           checkin      1\n",
       "6  0001382e027b2ea4 2016-03-07 08:50:38           checkin      1\n",
       "7  0001382e027b2ea4 2016-03-07 08:50:48           checkin      1\n",
       "8  0001382e027b2ea4 2016-03-07 08:50:58           checkin      1\n",
       "9  0001382e027b2ea4 2016-03-07 08:51:28           checkin      1"
      ]
     },
     "execution_count": 50,
     "metadata": {},
     "output_type": "execute_result"
    }
   ],
   "source": [
    "total_gb = df.groupby(['session_id','timestamp','action']).size().reset_index(name='count')\n",
    "# see grouped df. group by session, and then by time stamp, and then by action.\n",
    "total_gb[1:10]"
   ]
  },
  {
   "cell_type": "code",
   "execution_count": 14,
   "metadata": {
    "collapsed": false
   },
   "outputs": [],
   "source": [
    "total_vp=total_gb[total_gb.action=='visitPage'] "
   ]
  },
  {
   "cell_type": "markdown",
   "metadata": {
    "variables": {
     "len(total_vp)": "40100"
    }
   },
   "source": [
    "We have {{len(total_vp)}} total visitPage actions...but there could be more than 1 per session, so we need to dig deeper to find the true CTR. \n",
    "\n",
    "To be clear, what this means is the following: a given session could have multiple search result clicks (and visitPage events)...so simply dividing {{len(total_vp)}} by the total number of sessions would be an inflated assessment of the true click through rate. "
   ]
  },
  {
   "cell_type": "code",
   "execution_count": 15,
   "metadata": {
    "collapsed": false
   },
   "outputs": [],
   "source": [
    "total_vp.groupby('session_id')\n",
    "total_sessions_with_click=len(total_vp.groupby('session_id'))"
   ]
  },
  {
   "cell_type": "markdown",
   "metadata": {
    "variables": {
     "total_sessions_with_click": "26452"
    }
   },
   "source": [
    "We group again by session_id, and we find that there are a good amount of sessions with more than one page visit...so the total sessions with at least one click is only {{total_sessions_with_click}}."
   ]
  },
  {
   "cell_type": "code",
   "execution_count": 16,
   "metadata": {
    "collapsed": false
   },
   "outputs": [
    {
     "name": "stdout",
     "output_type": "stream",
     "text": [
      "0.389\n"
     ]
    }
   ],
   "source": [
    "ctr=total_sessions_with_click/number_sessions_total\n",
    "print(\"%.3f\" % ctr)"
   ]
  },
  {
   "cell_type": "markdown",
   "metadata": {
    "variables": {
     "print(\"%.3f\" % ctr)": "0.389"
    }
   },
   "source": [
    "Using the definition of \"the proportion of search sessions where the user clicked on one of the results displayed\", we find the CTR for all pages to be {{print(\"%.3f\" % ctr)}}. We'll repeat the analysis above for each subsetted dataframe to find the CTR for groups A and B."
   ]
  },
  {
   "cell_type": "code",
   "execution_count": 17,
   "metadata": {
    "collapsed": false
   },
   "outputs": [
    {
     "name": "stdout",
     "output_type": "stream",
     "text": [
      "Group A CTR is 0.670\n",
      "Group B CTR is 0.175\n"
     ]
    }
   ],
   "source": [
    "# group a\n",
    "a_sessions=len(group_a.groupby('session_id')) # how long is each session (this pandas groupby code is super sweet)\n",
    "a_gb = group_a.groupby(['session_id','timestamp','action']).size().reset_index(name='count')\n",
    "a_vp=a_gb[a_gb.action=='visitPage'] \n",
    "a_sessions_with_click=len(a_vp.groupby('session_id'))\n",
    "a_ctr=a_sessions_with_click/a_sessions\n",
    "print(\"Group A CTR is %.3f\" % a_ctr)\n",
    "\n",
    "#group b\n",
    "b_sessions=len(group_b.groupby('session_id')) # how long is each session (this pandas groupby code is super sweet)\n",
    "b_gb = group_b.groupby(['session_id','timestamp','action']).size().reset_index(name='count')\n",
    "b_vp=b_gb[b_gb.action=='visitPage'] \n",
    "b_sessions_with_click=len(b_vp.groupby('session_id'))\n",
    "b_ctr=b_sessions_with_click/b_sessions\n",
    "print(\"Group B CTR is %.3f\" % b_ctr)"
   ]
  },
  {
   "cell_type": "markdown",
   "metadata": {},
   "source": [
    "Whoa...big difference in click through between A and B. I won't run any tests, because it's clear to me that something significant is going on."
   ]
  },
  {
   "cell_type": "markdown",
   "metadata": {},
   "source": [
    "## \"2. Which results do people tend to try first? How does it change day-to-day?\""
   ]
  },
  {
   "cell_type": "markdown",
   "metadata": {},
   "source": [
    "We sort by session and timestamp and other variables..."
   ]
  },
  {
   "cell_type": "code",
   "execution_count": 56,
   "metadata": {
    "collapsed": false
   },
   "outputs": [
    {
     "data": {
      "text/html": [
       "<div>\n",
       "<table border=\"1\" class=\"dataframe\">\n",
       "  <thead>\n",
       "    <tr style=\"text-align: right;\">\n",
       "      <th></th>\n",
       "      <th>session_id</th>\n",
       "      <th>timestamp</th>\n",
       "      <th>day</th>\n",
       "      <th>action</th>\n",
       "      <th>result_position</th>\n",
       "      <th>count</th>\n",
       "    </tr>\n",
       "  </thead>\n",
       "  <tbody>\n",
       "    <tr>\n",
       "      <th>0</th>\n",
       "      <td>0001382e027b2ea4</td>\n",
       "      <td>2016-03-07 08:49:58</td>\n",
       "      <td>7</td>\n",
       "      <td>visitPage</td>\n",
       "      <td>1.0</td>\n",
       "      <td>1</td>\n",
       "    </tr>\n",
       "    <tr>\n",
       "      <th>1</th>\n",
       "      <td>0001382e027b2ea4</td>\n",
       "      <td>2016-03-07 08:50:08</td>\n",
       "      <td>7</td>\n",
       "      <td>checkin</td>\n",
       "      <td>1.0</td>\n",
       "      <td>1</td>\n",
       "    </tr>\n",
       "    <tr>\n",
       "      <th>2</th>\n",
       "      <td>0001382e027b2ea4</td>\n",
       "      <td>2016-03-07 08:50:18</td>\n",
       "      <td>7</td>\n",
       "      <td>checkin</td>\n",
       "      <td>1.0</td>\n",
       "      <td>1</td>\n",
       "    </tr>\n",
       "    <tr>\n",
       "      <th>3</th>\n",
       "      <td>0001382e027b2ea4</td>\n",
       "      <td>2016-03-07 08:50:28</td>\n",
       "      <td>7</td>\n",
       "      <td>checkin</td>\n",
       "      <td>1.0</td>\n",
       "      <td>1</td>\n",
       "    </tr>\n",
       "    <tr>\n",
       "      <th>4</th>\n",
       "      <td>0001382e027b2ea4</td>\n",
       "      <td>2016-03-07 08:50:38</td>\n",
       "      <td>7</td>\n",
       "      <td>checkin</td>\n",
       "      <td>1.0</td>\n",
       "      <td>1</td>\n",
       "    </tr>\n",
       "  </tbody>\n",
       "</table>\n",
       "</div>"
      ],
      "text/plain": [
       "         session_id           timestamp  day     action  result_position  \\\n",
       "0  0001382e027b2ea4 2016-03-07 08:49:58    7  visitPage              1.0   \n",
       "1  0001382e027b2ea4 2016-03-07 08:50:08    7    checkin              1.0   \n",
       "2  0001382e027b2ea4 2016-03-07 08:50:18    7    checkin              1.0   \n",
       "3  0001382e027b2ea4 2016-03-07 08:50:28    7    checkin              1.0   \n",
       "4  0001382e027b2ea4 2016-03-07 08:50:38    7    checkin              1.0   \n",
       "\n",
       "   count  \n",
       "0      1  \n",
       "1      1  \n",
       "2      1  \n",
       "3      1  \n",
       "4      1  "
      ]
     },
     "execution_count": 56,
     "metadata": {},
     "output_type": "execute_result"
    }
   ],
   "source": [
    "sess=df.groupby(['session_id','timestamp','day','action','result_position'])['action'].size().reset_index(name='count')\n",
    "sess[0:5]"
   ]
  },
  {
   "cell_type": "markdown",
   "metadata": {},
   "source": [
    "Now we only keep the visited page events, because those correspond to the actual click, which we are interested in."
   ]
  },
  {
   "cell_type": "code",
   "execution_count": 67,
   "metadata": {
    "collapsed": false
   },
   "outputs": [
    {
     "data": {
      "text/html": [
       "<div>\n",
       "<table border=\"1\" class=\"dataframe\">\n",
       "  <thead>\n",
       "    <tr style=\"text-align: right;\">\n",
       "      <th></th>\n",
       "      <th>session_id</th>\n",
       "      <th>timestamp</th>\n",
       "      <th>day</th>\n",
       "      <th>action</th>\n",
       "      <th>result_position</th>\n",
       "      <th>count</th>\n",
       "    </tr>\n",
       "  </thead>\n",
       "  <tbody>\n",
       "    <tr>\n",
       "      <th>0</th>\n",
       "      <td>0001382e027b2ea4</td>\n",
       "      <td>2016-03-07 08:49:58</td>\n",
       "      <td>7</td>\n",
       "      <td>visitPage</td>\n",
       "      <td>1.0</td>\n",
       "      <td>1</td>\n",
       "    </tr>\n",
       "    <tr>\n",
       "      <th>14</th>\n",
       "      <td>0001e8bb90445cb2</td>\n",
       "      <td>2016-03-05 09:24:30</td>\n",
       "      <td>5</td>\n",
       "      <td>visitPage</td>\n",
       "      <td>1.0</td>\n",
       "      <td>1</td>\n",
       "    </tr>\n",
       "    <tr>\n",
       "      <th>30</th>\n",
       "      <td>00064fe774048046</td>\n",
       "      <td>2016-03-05 07:42:37</td>\n",
       "      <td>5</td>\n",
       "      <td>visitPage</td>\n",
       "      <td>1.0</td>\n",
       "      <td>1</td>\n",
       "    </tr>\n",
       "  </tbody>\n",
       "</table>\n",
       "</div>"
      ],
      "text/plain": [
       "          session_id           timestamp  day     action  result_position  \\\n",
       "0   0001382e027b2ea4 2016-03-07 08:49:58    7  visitPage              1.0   \n",
       "14  0001e8bb90445cb2 2016-03-05 09:24:30    5  visitPage              1.0   \n",
       "30  00064fe774048046 2016-03-05 07:42:37    5  visitPage              1.0   \n",
       "\n",
       "    count  \n",
       "0       1  \n",
       "14      1  \n",
       "30      1  "
      ]
     },
     "execution_count": 67,
     "metadata": {},
     "output_type": "execute_result"
    }
   ],
   "source": [
    "visited=sess[sess.action=='visitPage']\n",
    "visited[0:3]"
   ]
  },
  {
   "cell_type": "markdown",
   "metadata": {},
   "source": [
    "We then group by session_id again and use the head function to take the first event...we then find the mean of result_position based on the day. What follows are the mean first clicks for each day in our data."
   ]
  },
  {
   "cell_type": "code",
   "execution_count": 68,
   "metadata": {
    "collapsed": false
   },
   "outputs": [
    {
     "data": {
      "text/html": [
       "<div>\n",
       "<table border=\"1\" class=\"dataframe\">\n",
       "  <thead>\n",
       "    <tr style=\"text-align: right;\">\n",
       "      <th></th>\n",
       "      <th>session_id</th>\n",
       "      <th>timestamp</th>\n",
       "      <th>day</th>\n",
       "      <th>action</th>\n",
       "      <th>result_position</th>\n",
       "      <th>count</th>\n",
       "    </tr>\n",
       "  </thead>\n",
       "  <tbody>\n",
       "    <tr>\n",
       "      <th>0</th>\n",
       "      <td>0001382e027b2ea4</td>\n",
       "      <td>2016-03-07 08:49:58</td>\n",
       "      <td>7</td>\n",
       "      <td>visitPage</td>\n",
       "      <td>1.0</td>\n",
       "      <td>1</td>\n",
       "    </tr>\n",
       "    <tr>\n",
       "      <th>1</th>\n",
       "      <td>0001e8bb90445cb2</td>\n",
       "      <td>2016-03-05 09:24:30</td>\n",
       "      <td>5</td>\n",
       "      <td>visitPage</td>\n",
       "      <td>1.0</td>\n",
       "      <td>1</td>\n",
       "    </tr>\n",
       "    <tr>\n",
       "      <th>2</th>\n",
       "      <td>00064fe774048046</td>\n",
       "      <td>2016-03-05 07:42:37</td>\n",
       "      <td>5</td>\n",
       "      <td>visitPage</td>\n",
       "      <td>1.0</td>\n",
       "      <td>1</td>\n",
       "    </tr>\n",
       "  </tbody>\n",
       "</table>\n",
       "</div>"
      ],
      "text/plain": [
       "         session_id           timestamp  day     action  result_position  \\\n",
       "0  0001382e027b2ea4 2016-03-07 08:49:58    7  visitPage              1.0   \n",
       "1  0001e8bb90445cb2 2016-03-05 09:24:30    5  visitPage              1.0   \n",
       "2  00064fe774048046 2016-03-05 07:42:37    5  visitPage              1.0   \n",
       "\n",
       "   count  \n",
       "0      1  \n",
       "1      1  \n",
       "2      1  "
      ]
     },
     "execution_count": 68,
     "metadata": {},
     "output_type": "execute_result"
    }
   ],
   "source": [
    "first=visited.groupby('session_id').head(1).reset_index(drop=True)\n",
    "first[0:3]"
   ]
  },
  {
   "cell_type": "code",
   "execution_count": 69,
   "metadata": {
    "collapsed": false
   },
   "outputs": [
    {
     "name": "stdout",
     "output_type": "stream",
     "text": [
      "     result_position     count\n",
      "day                           \n",
      "1           3.206133  1.000000\n",
      "2           2.097805  1.000000\n",
      "3           2.188846  1.000000\n",
      "4           2.150076  1.000000\n",
      "5           2.154743  1.000000\n",
      "6           2.113322  1.000337\n",
      "7           2.233173  1.000000\n",
      "8           2.266964  1.000000\n"
     ]
    }
   ],
   "source": [
    "firstclick=first.groupby('day').mean()\n",
    "print(firstclick)"
   ]
  },
  {
   "cell_type": "code",
   "execution_count": 70,
   "metadata": {
    "collapsed": false
   },
   "outputs": [
    {
     "name": "stdout",
     "output_type": "stream",
     "text": [
      "         result_position     count\n",
      "weekday                           \n",
      "0               2.233173  1.000000\n",
      "1               2.763549  1.000000\n",
      "2               2.097805  1.000000\n",
      "3               2.188846  1.000000\n",
      "4               2.150076  1.000000\n",
      "5               2.154743  1.000000\n",
      "6               2.113322  1.000337\n"
     ]
    }
   ],
   "source": [
    "# and by weekday\n",
    "wday_sess=df.groupby(['session_id','timestamp','weekday','action','result_position'])['action'].size().reset_index(name='count')\n",
    "wday_visited=wday_sess[wday_sess.action=='visitPage']\n",
    "wday_first=wday_visited.groupby('session_id').head(1).reset_index(drop=True)\n",
    "wday_firstclick=wday_first.groupby('weekday').mean()\n",
    "print(wday_firstclick)"
   ]
  },
  {
   "cell_type": "markdown",
   "metadata": {},
   "source": [
    "Something is up with day 1 (the first of the month)? Or, something is special about day 1 of the week (Monday). \n",
    "\n",
    "The medians are all 1, though. This data is heavily skewed right, as the histograms show. "
   ]
  },
  {
   "cell_type": "code",
   "execution_count": 20,
   "metadata": {
    "collapsed": false
   },
   "outputs": [
    {
     "data": {
      "text/html": [
       "<div>\n",
       "<table border=\"1\" class=\"dataframe\">\n",
       "  <thead>\n",
       "    <tr style=\"text-align: right;\">\n",
       "      <th></th>\n",
       "      <th>result_position</th>\n",
       "      <th>count</th>\n",
       "    </tr>\n",
       "    <tr>\n",
       "      <th>day</th>\n",
       "      <th></th>\n",
       "      <th></th>\n",
       "    </tr>\n",
       "  </thead>\n",
       "  <tbody>\n",
       "    <tr>\n",
       "      <th>1</th>\n",
       "      <td>1.0</td>\n",
       "      <td>1</td>\n",
       "    </tr>\n",
       "    <tr>\n",
       "      <th>2</th>\n",
       "      <td>1.0</td>\n",
       "      <td>1</td>\n",
       "    </tr>\n",
       "    <tr>\n",
       "      <th>3</th>\n",
       "      <td>1.0</td>\n",
       "      <td>1</td>\n",
       "    </tr>\n",
       "    <tr>\n",
       "      <th>4</th>\n",
       "      <td>1.0</td>\n",
       "      <td>1</td>\n",
       "    </tr>\n",
       "    <tr>\n",
       "      <th>5</th>\n",
       "      <td>1.0</td>\n",
       "      <td>1</td>\n",
       "    </tr>\n",
       "    <tr>\n",
       "      <th>6</th>\n",
       "      <td>1.0</td>\n",
       "      <td>1</td>\n",
       "    </tr>\n",
       "    <tr>\n",
       "      <th>7</th>\n",
       "      <td>1.0</td>\n",
       "      <td>1</td>\n",
       "    </tr>\n",
       "    <tr>\n",
       "      <th>8</th>\n",
       "      <td>1.0</td>\n",
       "      <td>1</td>\n",
       "    </tr>\n",
       "  </tbody>\n",
       "</table>\n",
       "</div>"
      ],
      "text/plain": [
       "     result_position  count\n",
       "day                        \n",
       "1                1.0      1\n",
       "2                1.0      1\n",
       "3                1.0      1\n",
       "4                1.0      1\n",
       "5                1.0      1\n",
       "6                1.0      1\n",
       "7                1.0      1\n",
       "8                1.0      1"
      ]
     },
     "execution_count": 20,
     "metadata": {},
     "output_type": "execute_result"
    }
   ],
   "source": [
    "first.groupby('day').median()"
   ]
  },
  {
   "cell_type": "code",
   "execution_count": 71,
   "metadata": {
    "collapsed": true
   },
   "outputs": [],
   "source": [
    "rp_gb = df.groupby(['session_id','timestamp','day','action','result_position']).size().reset_index(name='count')\n",
    "rp_vp=rp_gb[rp_gb.action=='visitPage'] \n",
    "# rp_vp['result_position'].groupby('timestamp')"
   ]
  },
  {
   "cell_type": "code",
   "execution_count": 87,
   "metadata": {
    "collapsed": false
   },
   "outputs": [
    {
     "data": {
      "image/png": "[encoded data removed]",
      "text/plain": [
       "<matplotlib.figure.Figure at 0x1213e7a90>"
      ]
     },
     "metadata": {},
     "output_type": "display_data"
    }
   ],
   "source": [
    "rp_vp['result_position'].hist(by=rp_vp['day'])\n",
    "from pylab import rcParams\n",
    "rcParams['figure.figsize'] = 30, 20\n",
    "plt.show()"
   ]
  },
  {
   "cell_type": "markdown",
   "metadata": {},
   "source": [
    "## \"3. What is our daily overall zero results rate? How does it vary between the groups?\""
   ]
  },
  {
   "cell_type": "markdown",
   "metadata": {},
   "source": [
    "The zero results rate is defined as \"the proportion of searches that yielded 0 results.\""
   ]
  },
  {
   "cell_type": "code",
   "execution_count": 23,
   "metadata": {
    "collapsed": false
   },
   "outputs": [
    {
     "data": {
      "text/html": [
       "<div>\n",
       "<table border=\"1\" class=\"dataframe\">\n",
       "  <thead>\n",
       "    <tr style=\"text-align: right;\">\n",
       "      <th></th>\n",
       "      <th>session_id</th>\n",
       "      <th>n_results</th>\n",
       "      <th>count</th>\n",
       "    </tr>\n",
       "  </thead>\n",
       "  <tbody>\n",
       "    <tr>\n",
       "      <th>1</th>\n",
       "      <td>0001382e027b2ea4</td>\n",
       "      <td>18.0</td>\n",
       "      <td>1</td>\n",
       "    </tr>\n",
       "    <tr>\n",
       "      <th>2</th>\n",
       "      <td>0001e8bb90445cb2</td>\n",
       "      <td>20.0</td>\n",
       "      <td>1</td>\n",
       "    </tr>\n",
       "    <tr>\n",
       "      <th>3</th>\n",
       "      <td>000216cf18ae1ab1</td>\n",
       "      <td>20.0</td>\n",
       "      <td>6</td>\n",
       "    </tr>\n",
       "    <tr>\n",
       "      <th>4</th>\n",
       "      <td>000527f711d50dfc</td>\n",
       "      <td>1.0</td>\n",
       "      <td>1</td>\n",
       "    </tr>\n",
       "    <tr>\n",
       "      <th>5</th>\n",
       "      <td>00064fe774048046</td>\n",
       "      <td>0.0</td>\n",
       "      <td>1</td>\n",
       "    </tr>\n",
       "    <tr>\n",
       "      <th>6</th>\n",
       "      <td>00064fe774048046</td>\n",
       "      <td>1.0</td>\n",
       "      <td>1</td>\n",
       "    </tr>\n",
       "    <tr>\n",
       "      <th>7</th>\n",
       "      <td>00071a2cf97168df</td>\n",
       "      <td>20.0</td>\n",
       "      <td>1</td>\n",
       "    </tr>\n",
       "    <tr>\n",
       "      <th>8</th>\n",
       "      <td>0007582fe23d51e6</td>\n",
       "      <td>0.0</td>\n",
       "      <td>1</td>\n",
       "    </tr>\n",
       "    <tr>\n",
       "      <th>9</th>\n",
       "      <td>0007b7f6b575feb6</td>\n",
       "      <td>20.0</td>\n",
       "      <td>1</td>\n",
       "    </tr>\n",
       "  </tbody>\n",
       "</table>\n",
       "</div>"
      ],
      "text/plain": [
       "         session_id  n_results  count\n",
       "1  0001382e027b2ea4       18.0      1\n",
       "2  0001e8bb90445cb2       20.0      1\n",
       "3  000216cf18ae1ab1       20.0      6\n",
       "4  000527f711d50dfc        1.0      1\n",
       "5  00064fe774048046        0.0      1\n",
       "6  00064fe774048046        1.0      1\n",
       "7  00071a2cf97168df       20.0      1\n",
       "8  0007582fe23d51e6        0.0      1\n",
       "9  0007b7f6b575feb6       20.0      1"
      ]
     },
     "execution_count": 23,
     "metadata": {},
     "output_type": "execute_result"
    }
   ],
   "source": [
    "# sort by session id and n_results \n",
    "num_results=df2.groupby(['session_id','n_results']).size().reset_index(name='count')\n",
    "num_results.sort_values(by='session_id')[1:10]"
   ]
  },
  {
   "cell_type": "markdown",
   "metadata": {},
   "source": [
    "We see most sessions only have one search. Session '00064fe774048046' had two searches (likely because the first returned 0 results). "
   ]
  },
  {
   "cell_type": "code",
   "execution_count": 24,
   "metadata": {
    "collapsed": true
   },
   "outputs": [],
   "source": [
    "num_searches=len(num_results)"
   ]
  },
  {
   "cell_type": "markdown",
   "metadata": {
    "variables": {
     "num_searches": "84765"
    }
   },
   "source": [
    "There were {{num_searches}} total searches in this dataset. "
   ]
  },
  {
   "cell_type": "code",
   "execution_count": 88,
   "metadata": {
    "collapsed": false
   },
   "outputs": [],
   "source": [
    "# which search returned 0 results\n",
    "num_results['n_results']==0\n",
    "zero_results=sum(num_results['n_results']==0)\n",
    "zrr=zero_results/num_searches"
   ]
  },
  {
   "cell_type": "markdown",
   "metadata": {
    "variables": {
     "num_searches": "84765",
     "print(\"%.3f\" % zrr)": "0.168",
     "zero_results": "14234"
    }
   },
   "source": [
    "We had {{zero_results}} searches with no results. Since we had {{num_searches}} in total, the zero results rate comes out to {{print(\"%.3f\" % zrr)}}. \n",
    "\n",
    "Let's break down by group."
   ]
  },
  {
   "cell_type": "code",
   "execution_count": 89,
   "metadata": {
    "collapsed": false
   },
   "outputs": [
    {
     "name": "stdout",
     "output_type": "stream",
     "text": [
      "0.154193883778\n",
      "0.182874195378\n"
     ]
    }
   ],
   "source": [
    "# A\n",
    "num_results_a=group_a.groupby(['session_id','n_results']).size().reset_index(name='count')\n",
    "# num_results_a.sort_values(by='session_id')[1:10]\n",
    "num_searches_a=len(num_results_a)\n",
    "num_results_a['n_results']==0\n",
    "zero_results_a=sum(num_results_a['n_results']==0)\n",
    "zrr_a=zero_results_a/num_searches_a\n",
    "print(zrr_a)\n",
    "\n",
    "# B\n",
    "num_results_b=group_b.groupby(['session_id','n_results']).size().reset_index(name='count')\n",
    "# num_results_b.sort_values(by='session_id')[1:10]\n",
    "num_searches_b=len(num_results_b)\n",
    "num_results_b['n_results']==0\n",
    "zero_results_b=sum(num_results_b['n_results']==0)\n",
    "zrr_b=zero_results_b/num_searches_b\n",
    "print(zrr_b)"
   ]
  },
  {
   "cell_type": "markdown",
   "metadata": {
    "variables": {
     "print(\"%.3f\" %zrr_a)": "0.154",
     "print(\"%.3f\" %zrr_b)": "0.183"
    }
   },
   "source": [
    "There isn't a huge difference between Groups A and B in the zero results rate ({{print(\"%.3f\" %zrr_a)}} and {{print(\"%.3f\" %zrr_b)}}) respectively."
   ]
  },
  {
   "cell_type": "code",
   "execution_count": 90,
   "metadata": {
    "collapsed": false
   },
   "outputs": [
    {
     "data": {
      "text/plain": [
       "Ttest_indResult(statistic=-11.168759989874337, pvalue=6.0748755745501593e-29)"
      ]
     },
     "execution_count": 90,
     "metadata": {},
     "output_type": "execute_result"
    }
   ],
   "source": [
    "from scipy import stats\n",
    "\n",
    "a_no_results=num_results_a['n_results']==0\n",
    "b_no_results=num_results_b['n_results']==0\n",
    "\n",
    "stats.ttest_ind(a_no_results,b_no_results)"
   ]
  },
  {
   "cell_type": "markdown",
   "metadata": {
    "variables": {
     "print(\"%.3E\" % stats.ttest_ind(a_no_results,b_no_results)[1])": "6.075E-29"
    }
   },
   "source": [
    "The p value on the t statistic returns {{print(\"%.3E\" % stats.ttest_ind(a_no_results,b_no_results)[1])}}...so though the difference may not be important in practice, there is huge statistical significance. "
   ]
  },
  {
   "cell_type": "markdown",
   "metadata": {},
   "source": [
    "## \"4. Let session length be approximately the time between the first event and the last event in a session. Choose a variable from the dataset and describe its relationship to session length. Visualize the relationship.\""
   ]
  },
  {
   "cell_type": "code",
   "execution_count": 91,
   "metadata": {
    "collapsed": false
   },
   "outputs": [],
   "source": [
    "# group by session and then find max and min timestamp in each session\n",
    "starts=df.groupby(['session_id','weekday'], sort=False)['timestamp'].min().reset_index(name='start_time')\n",
    "ends=df.groupby(['session_id','weekday'], sort=False)['timestamp'].max().reset_index(name='end_time')"
   ]
  },
  {
   "cell_type": "code",
   "execution_count": 92,
   "metadata": {
    "collapsed": false
   },
   "outputs": [],
   "source": [
    "# subtract first time from last time recorded in session to get approximate session time length\n",
    "sess_time=ends['end_time']-starts['start_time']"
   ]
  },
  {
   "cell_type": "code",
   "execution_count": 93,
   "metadata": {
    "collapsed": false
   },
   "outputs": [
    {
     "data": {
      "text/plain": [
       "Timedelta('0 days 00:02:19.185080')"
      ]
     },
     "execution_count": 93,
     "metadata": {},
     "output_type": "execute_result"
    }
   ],
   "source": [
    "# add session time to starts df for further analysis\n",
    "starts['sess_time']=sess_time\n",
    "starts['sess_time'].mean()"
   ]
  },
  {
   "cell_type": "markdown",
   "metadata": {
    "variables": {
     "starts['sess_time'].mean()": "0 days 00:02:19.185080"
    }
   },
   "source": [
    "The average session is {{starts['sess_time'].mean()}} long. Now, let's see how average session time varies by day of week."
   ]
  },
  {
   "cell_type": "code",
   "execution_count": 94,
   "metadata": {
    "collapsed": false
   },
   "outputs": [
    {
     "data": {
      "text/html": [
       "<div>\n",
       "<table border=\"1\" class=\"dataframe\">\n",
       "  <thead>\n",
       "    <tr style=\"text-align: right;\">\n",
       "      <th></th>\n",
       "      <th>session_id</th>\n",
       "      <th>weekday</th>\n",
       "      <th>start_time</th>\n",
       "      <th>sess_time</th>\n",
       "    </tr>\n",
       "  </thead>\n",
       "  <tbody>\n",
       "    <tr>\n",
       "      <th>0</th>\n",
       "      <td>0000cbcb67c19c45</td>\n",
       "      <td>3</td>\n",
       "      <td>2016-03-03 15:20:45</td>\n",
       "      <td>00:00:00</td>\n",
       "    </tr>\n",
       "    <tr>\n",
       "      <th>1</th>\n",
       "      <td>0001382e027b2ea4</td>\n",
       "      <td>0</td>\n",
       "      <td>2016-03-07 08:49:55</td>\n",
       "      <td>00:05:03</td>\n",
       "    </tr>\n",
       "    <tr>\n",
       "      <th>2</th>\n",
       "      <td>0001e8bb90445cb2</td>\n",
       "      <td>5</td>\n",
       "      <td>2016-03-05 09:24:15</td>\n",
       "      <td>00:07:15</td>\n",
       "    </tr>\n",
       "    <tr>\n",
       "      <th>3</th>\n",
       "      <td>000216cf18ae1ab1</td>\n",
       "      <td>1</td>\n",
       "      <td>2016-03-08 16:19:46</td>\n",
       "      <td>00:00:58</td>\n",
       "    </tr>\n",
       "    <tr>\n",
       "      <th>4</th>\n",
       "      <td>000527f711d50dfc</td>\n",
       "      <td>1</td>\n",
       "      <td>2016-03-08 05:33:00</td>\n",
       "      <td>00:00:00</td>\n",
       "    </tr>\n",
       "  </tbody>\n",
       "</table>\n",
       "</div>"
      ],
      "text/plain": [
       "         session_id  weekday          start_time  sess_time\n",
       "0  0000cbcb67c19c45        3 2016-03-03 15:20:45   00:00:00\n",
       "1  0001382e027b2ea4        0 2016-03-07 08:49:55   00:05:03\n",
       "2  0001e8bb90445cb2        5 2016-03-05 09:24:15   00:07:15\n",
       "3  000216cf18ae1ab1        1 2016-03-08 16:19:46   00:00:58\n",
       "4  000527f711d50dfc        1 2016-03-08 05:33:00   00:00:00"
      ]
     },
     "execution_count": 94,
     "metadata": {},
     "output_type": "execute_result"
    }
   ],
   "source": [
    "starts.head()"
   ]
  },
  {
   "cell_type": "code",
   "execution_count": 95,
   "metadata": {
    "collapsed": false
   },
   "outputs": [
    {
     "data": {
      "text/html": [
       "<div>\n",
       "<table border=\"1\" class=\"dataframe\">\n",
       "  <thead>\n",
       "    <tr style=\"text-align: right;\">\n",
       "      <th></th>\n",
       "      <th>session_id</th>\n",
       "      <th>weekday</th>\n",
       "      <th>start_time</th>\n",
       "      <th>sess_time</th>\n",
       "      <th>integer_sess_time</th>\n",
       "    </tr>\n",
       "  </thead>\n",
       "  <tbody>\n",
       "    <tr>\n",
       "      <th>0</th>\n",
       "      <td>0000cbcb67c19c45</td>\n",
       "      <td>3</td>\n",
       "      <td>2016-03-03 15:20:45</td>\n",
       "      <td>0 days</td>\n",
       "      <td>0.0</td>\n",
       "    </tr>\n",
       "    <tr>\n",
       "      <th>35763</th>\n",
       "      <td>8631603f9841e99d</td>\n",
       "      <td>1</td>\n",
       "      <td>2016-03-08 14:57:38</td>\n",
       "      <td>0 days</td>\n",
       "      <td>0.0</td>\n",
       "    </tr>\n",
       "    <tr>\n",
       "      <th>35767</th>\n",
       "      <td>863639805e0bfc91</td>\n",
       "      <td>2</td>\n",
       "      <td>2016-03-02 20:42:38</td>\n",
       "      <td>0 days</td>\n",
       "      <td>0.0</td>\n",
       "    </tr>\n",
       "    <tr>\n",
       "      <th>35769</th>\n",
       "      <td>863937b2ef07b251</td>\n",
       "      <td>1</td>\n",
       "      <td>2016-03-08 01:50:51</td>\n",
       "      <td>0 days</td>\n",
       "      <td>0.0</td>\n",
       "    </tr>\n",
       "    <tr>\n",
       "      <th>35773</th>\n",
       "      <td>863ddd288e201fd8</td>\n",
       "      <td>6</td>\n",
       "      <td>2016-03-06 22:33:44</td>\n",
       "      <td>0 days</td>\n",
       "      <td>0.0</td>\n",
       "    </tr>\n",
       "  </tbody>\n",
       "</table>\n",
       "</div>"
      ],
      "text/plain": [
       "             session_id  weekday          start_time  sess_time  \\\n",
       "0      0000cbcb67c19c45        3 2016-03-03 15:20:45     0 days   \n",
       "35763  8631603f9841e99d        1 2016-03-08 14:57:38     0 days   \n",
       "35767  863639805e0bfc91        2 2016-03-02 20:42:38     0 days   \n",
       "35769  863937b2ef07b251        1 2016-03-08 01:50:51     0 days   \n",
       "35773  863ddd288e201fd8        6 2016-03-06 22:33:44     0 days   \n",
       "\n",
       "       integer_sess_time  \n",
       "0                    0.0  \n",
       "35763                0.0  \n",
       "35767                0.0  \n",
       "35769                0.0  \n",
       "35773                0.0  "
      ]
     },
     "execution_count": 95,
     "metadata": {},
     "output_type": "execute_result"
    }
   ],
   "source": [
    "starts['integer_sess_time']=[starts['sess_time'][i].total_seconds() for i in range(len(starts))] # in seconds\n",
    "starts.sort_values(by='integer_sess_time').head()"
   ]
  },
  {
   "cell_type": "code",
   "execution_count": 96,
   "metadata": {
    "collapsed": false
   },
   "outputs": [],
   "source": [
    "sess_by_weekday=starts.groupby('weekday')['integer_sess_time'].mean().reset_index(name='avg_sess_seconds')"
   ]
  },
  {
   "cell_type": "code",
   "execution_count": 97,
   "metadata": {
    "collapsed": false
   },
   "outputs": [
    {
     "data": {
      "text/html": [
       "<iframe id=\"igraph\" scrolling=\"no\" style=\"border:none;\" seamless=\"seamless\" src=\"https://plot.ly/~wnowak10/32.embed\" height=\"525px\" width=\"100%\"></iframe>"
      ],
      "text/plain": [
       "<plotly.tools.PlotlyDisplay object>"
      ]
     },
     "execution_count": 97,
     "metadata": {},
     "output_type": "execute_result"
    }
   ],
   "source": [
    "\n",
    "action_data = [\n",
    "    go.Bar(\n",
    "        x=sess_by_weekday.weekday, # x axis labels -- the index of action_vcs df\n",
    "        y=sess_by_weekday['avg_sess_seconds']\n",
    "    )\n",
    "]\n",
    "\n",
    "layout=go.Layout(title=\"Session length by day of week\", xaxis={'title':'Action'}, yaxis={'title':'Average session length'})\n",
    "figure=go.Figure(data=action_data,layout=layout)\n",
    "py.iplot(figure)"
   ]
  },
  {
   "cell_type": "markdown",
   "metadata": {
    "collapsed": false
   },
   "source": [
    "People spend more time throughout the week per session, with time peaking on Wednesday. Why? Something to investigate further."
   ]
  },
  {
   "cell_type": "markdown",
   "metadata": {
    "collapsed": true
   },
   "source": [
    "## \"5. Summarize your findings in an executive summary.\""
   ]
  },
  {
   "cell_type": "markdown",
   "metadata": {},
   "source": [
    "In summary:\n",
    "\n",
    "- We had an unequal balance in groups...more individuals in group A than group B.\n",
    "- CTR group A was ~.7 versus .2 for group B\n",
    "- People are clicking on result 1 most often, with the most aberrational performance on Mondays.\n",
    "- Zero results rate is around 17%.\n",
    "- Longest sessions occur on Wednesday, a slight increase in session use from Sunday - Wednesday and then a dropoff thereafter. \n",
    "\n",
    "Hope you enjoyed reading. I enjoyed doing! I learned a lot about pandas groupby functionality, as well as awesome interaction plotly graphics. Fun fun. "
   ]
  }
 ],
 "metadata": {
  "anaconda-cloud": {},
  "kernelspec": {
   "display_name": "Python [conda env:py35]",
   "language": "python",
   "name": "conda-env-py35-py"
  },
  "language_info": {
   "codemirror_mode": {
    "name": "ipython",
    "version": 3
   },
   "file_extension": ".py",
   "mimetype": "text/x-python",
   "name": "python",
   "nbconvert_exporter": "python",
   "pygments_lexer": "ipython3",
   "version": "3.5.2"
  }
 },
 "nbformat": 4,
 "nbformat_minor": 1
}
